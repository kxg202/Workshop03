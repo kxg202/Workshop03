{
 "cells": [
  {
   "cell_type": "markdown",
   "id": "70738df6",
   "metadata": {},
   "source": [
    "## Question-1"
   ]
  },
  {
   "cell_type": "markdown",
   "id": "566a87be",
   "metadata": {},
   "source": [
    "Using the data in `'churn.csv'`:\n",
    "\n",
    "a- Select the following columns: <br>\n",
    "        ``['gender','InternetService','Contract','MonthlyCharges','PhoneService','StreamingTV','Churn','Age']``\n"
   ]
  },
  {
   "cell_type": "code",
   "execution_count": 117,
   "id": "28654b21",
   "metadata": {},
   "outputs": [],
   "source": [
    "# Your code here\n",
    "#!pip install pandas\n",
    "import pandas as pd\n",
    "df = pd.read_csv('./churn.csv')\n",
    "df = df[['gender','InternetService','Contract','MonthlyCharges','PhoneService','StreamingTV','Churn','Age']]"
   ]
  },
  {
   "cell_type": "markdown",
   "id": "c366f8b4",
   "metadata": {},
   "source": [
    "b- Keep only those have phoneService with StreamingTV (be sure to reset the index and remove any additional column). \n"
   ]
  },
  {
   "cell_type": "code",
   "execution_count": 118,
   "id": "ac7734aa",
   "metadata": {},
   "outputs": [],
   "source": [
    "# Your code here\n",
    "df = df[(df['PhoneService'] == 'Yes') & (df['StreamingTV'] == 'Yes')]\n",
    "df.reset_index(inplace = True)\n",
    "df.drop(columns=['index'], inplace=True)"
   ]
  },
  {
   "cell_type": "markdown",
   "id": "fe4fb4e5",
   "metadata": {},
   "source": [
    "## Question-2"
   ]
  },
  {
   "cell_type": "markdown",
   "id": "0436e84d",
   "metadata": {},
   "source": [
    "a- Find which contract type has the largest number of churn \n"
   ]
  },
  {
   "cell_type": "code",
   "execution_count": 119,
   "id": "29243755",
   "metadata": {},
   "outputs": [
    {
     "data": {
      "text/plain": [
       "'Month-to-month'"
      ]
     },
     "execution_count": 119,
     "metadata": {},
     "output_type": "execute_result"
    }
   ],
   "source": [
    "# Your code here\n",
    "df[['Contract', 'Churn']].groupby('Contract').count().idxmax()[0]"
   ]
  },
  {
   "cell_type": "markdown",
   "id": "0e1a0924",
   "metadata": {},
   "source": [
    "b- What is the average monthly charge of Fiber optic client who pay Month-to-month? is there any difference between males vs females?\n"
   ]
  },
  {
   "cell_type": "code",
   "execution_count": 120,
   "id": "01c788fd",
   "metadata": {},
   "outputs": [
    {
     "name": "stdout",
     "output_type": "stream",
     "text": [
      "Average Monthly Charge: 95.5891\n"
     ]
    },
    {
     "data": {
      "text/html": [
       "<div>\n",
       "<style scoped>\n",
       "    .dataframe tbody tr th:only-of-type {\n",
       "        vertical-align: middle;\n",
       "    }\n",
       "\n",
       "    .dataframe tbody tr th {\n",
       "        vertical-align: top;\n",
       "    }\n",
       "\n",
       "    .dataframe thead th {\n",
       "        text-align: right;\n",
       "    }\n",
       "</style>\n",
       "<table border=\"1\" class=\"dataframe\">\n",
       "  <thead>\n",
       "    <tr style=\"text-align: right;\">\n",
       "      <th></th>\n",
       "      <th>MonthlyCharges</th>\n",
       "    </tr>\n",
       "    <tr>\n",
       "      <th>gender</th>\n",
       "      <th></th>\n",
       "    </tr>\n",
       "  </thead>\n",
       "  <tbody>\n",
       "    <tr>\n",
       "      <th>Female</th>\n",
       "      <td>95.376876</td>\n",
       "    </tr>\n",
       "    <tr>\n",
       "      <th>Male</th>\n",
       "      <td>95.795464</td>\n",
       "    </tr>\n",
       "  </tbody>\n",
       "</table>\n",
       "</div>"
      ],
      "text/plain": [
       "        MonthlyCharges\n",
       "gender                \n",
       "Female       95.376876\n",
       "Male         95.795464"
      ]
     },
     "execution_count": 120,
     "metadata": {},
     "output_type": "execute_result"
    }
   ],
   "source": [
    "# Your code here\n",
    "print(\"Average Monthly Charge: \" + str(df[(df.InternetService == 'Fiber optic') & (df.Contract == 'Month-to-month')][[\"MonthlyCharges\"]].mean()[0]))\n",
    "df[(df.InternetService == 'Fiber optic') & (df.Contract == 'Month-to-month')][['gender', 'MonthlyCharges']].groupby('gender').mean()"
   ]
  },
  {
   "cell_type": "markdown",
   "id": "cd8f8572",
   "metadata": {},
   "source": [
    "c- Find the number of Female vs male in each contract type"
   ]
  },
  {
   "cell_type": "code",
   "execution_count": 121,
   "id": "6eacc7b3",
   "metadata": {
    "scrolled": false
   },
   "outputs": [
    {
     "name": "stdout",
     "output_type": "stream",
     "text": [
      "Males \n",
      "                gender\n",
      "Contract              \n",
      "Month-to-month     598\n",
      "One year           283\n",
      "Two year           326\n",
      "\n",
      "Females \n",
      "                gender\n",
      "Contract              \n",
      "Month-to-month     580\n",
      "One year           299\n",
      "Two year           336\n"
     ]
    }
   ],
   "source": [
    "# Your code here\n",
    "print(\"Males \\n\" + str(df[df.gender == 'Male'][['gender', 'Contract']].groupby('Contract').count()) + \"\\n\")\n",
    "print(\"Females \\n\" + str(df[df.gender == 'Female'][['gender', 'Contract']].groupby('Contract').count()))"
   ]
  },
  {
   "cell_type": "markdown",
   "id": "17a79a33",
   "metadata": {},
   "source": [
    "d- How many Churn males vs females in each contract type? (then visualize the results)"
   ]
  },
  {
   "cell_type": "code",
   "execution_count": 122,
   "id": "23d7e26d",
   "metadata": {},
   "outputs": [
    {
     "name": "stdout",
     "output_type": "stream",
     "text": [
      "Male \n",
      "                gender\n",
      "Contract              \n",
      "Month-to-month     304\n",
      "One year            56\n",
      "Two year            20\n",
      "\n",
      "Female \n",
      "                gender\n",
      "Contract              \n",
      "Month-to-month     300\n",
      "One year            56\n",
      "Two year            14\n"
     ]
    },
    {
     "data": {
      "text/plain": [
       "Text(0.5, 1.0, 'Churn Males and Females')"
      ]
     },
     "execution_count": 122,
     "metadata": {},
     "output_type": "execute_result"
    },
    {
     "data": {
      "image/png": "[encoded data removed]",
      "text/plain": [
       "<Figure size 640x480 with 1 Axes>"
      ]
     },
     "metadata": {},
     "output_type": "display_data"
    }
   ],
   "source": [
    "# Your code here\n",
    "import matplotlib.pyplot as plt\n",
    "male = df[(df.gender == 'Male') & (df.Churn == 'Yes')][['Contract', 'gender']].groupby('Contract').count()\n",
    "female = df[(df.gender == 'Female') & (df.Churn == 'Yes')][['Contract', 'gender']].groupby('Contract').count()\n",
    "print(\"Male \\n\" + str(male) + \"\\n\")\n",
    "print(\"Female \\n\" + str(female))\n",
    "male = pd.concat([male, female])\n",
    "plt.pie(male['gender'], labels=['Female Month-to-month', 'Female One year', 'Female Two year', 'Male Month-to-month', 'Male One year', 'Male Two year'])\n",
    "plt.title(\"Churn Males and Females\")"
   ]
  },
  {
   "cell_type": "markdown",
   "id": "cc5b1083",
   "metadata": {},
   "source": [
    "e- Determine the mean monthly Charges for each contract type  (then visualize the results)"
   ]
  },
  {
   "cell_type": "code",
   "execution_count": 128,
   "id": "48164197",
   "metadata": {
    "scrolled": true
   },
   "outputs": [
    {
     "name": "stdout",
     "output_type": "stream",
     "text": [
      "                MonthlyCharges\n",
      "Contract                      \n",
      "Month-to-month       91.380263\n",
      "One year             93.572938\n",
      "Two year             95.677190\n"
     ]
    },
    {
     "data": {
      "text/plain": [
       "Text(0.5, 1.0, 'Mean Monthly Charges')"
      ]
     },
     "execution_count": 128,
     "metadata": {},
     "output_type": "execute_result"
    },
    {
     "data": {
      "image/png": "[encoded data removed]",
      "text/plain": [
       "<Figure size 640x480 with 1 Axes>"
      ]
     },
     "metadata": {},
     "output_type": "display_data"
    }
   ],
   "source": [
    "# Your code here\n",
    "meanMonthlyCharges = df[['MonthlyCharges', 'Contract']].groupby('Contract').mean()\n",
    "print(meanMonthlyCharges)\n",
    "plt.pie(meanMonthlyCharges['MonthlyCharges'], labels=['Month-to-month', 'One year', 'Two year'])\n",
    "plt.title('Mean Monthly Charges')"
   ]
  },
  {
   "cell_type": "markdown",
   "id": "14239f70",
   "metadata": {},
   "source": [
    "## Question-3"
   ]
  },
  {
   "cell_type": "markdown",
   "id": "c3847a12",
   "metadata": {},
   "source": [
    "a- Compare the monthly charges of Churn vs non-Churn clients <br>\n",
    "b- Compare the ages of Churn vs non-Churn clients  <br>"
   ]
  },
  {
   "cell_type": "code",
   "execution_count": 142,
   "id": "0a0ac091",
   "metadata": {
    "scrolled": true
   },
   "outputs": [
    {
     "data": {
      "text/html": [
       "<div>\n",
       "<style scoped>\n",
       "    .dataframe tbody tr th:only-of-type {\n",
       "        vertical-align: middle;\n",
       "    }\n",
       "\n",
       "    .dataframe tbody tr th {\n",
       "        vertical-align: top;\n",
       "    }\n",
       "\n",
       "    .dataframe thead th {\n",
       "        text-align: right;\n",
       "    }\n",
       "</style>\n",
       "<table border=\"1\" class=\"dataframe\">\n",
       "  <thead>\n",
       "    <tr style=\"text-align: right;\">\n",
       "      <th></th>\n",
       "      <th>MonthlyCharges</th>\n",
       "    </tr>\n",
       "    <tr>\n",
       "      <th>Churn</th>\n",
       "      <th></th>\n",
       "    </tr>\n",
       "  </thead>\n",
       "  <tbody>\n",
       "    <tr>\n",
       "      <th>No</th>\n",
       "      <td>92.58131</td>\n",
       "    </tr>\n",
       "    <tr>\n",
       "      <th>Yes</th>\n",
       "      <td>94.19700</td>\n",
       "    </tr>\n",
       "  </tbody>\n",
       "</table>\n",
       "</div>"
      ],
      "text/plain": [
       "       MonthlyCharges\n",
       "Churn                \n",
       "No           92.58131\n",
       "Yes          94.19700"
      ]
     },
     "execution_count": 142,
     "metadata": {},
     "output_type": "execute_result"
    }
   ],
   "source": [
    "# Your code here\n",
    "monthlyCharges = df[['MonthlyCharges', 'Churn']].groupby('Churn').mean()\n",
    "monthlyCharges"
   ]
  },
  {
   "cell_type": "code",
   "execution_count": 143,
   "id": "86b7d7bf",
   "metadata": {},
   "outputs": [
    {
     "data": {
      "text/html": [
       "<div>\n",
       "<style scoped>\n",
       "    .dataframe tbody tr th:only-of-type {\n",
       "        vertical-align: middle;\n",
       "    }\n",
       "\n",
       "    .dataframe tbody tr th {\n",
       "        vertical-align: top;\n",
       "    }\n",
       "\n",
       "    .dataframe thead th {\n",
       "        text-align: right;\n",
       "    }\n",
       "</style>\n",
       "<table border=\"1\" class=\"dataframe\">\n",
       "  <thead>\n",
       "    <tr style=\"text-align: right;\">\n",
       "      <th></th>\n",
       "      <th>Age</th>\n",
       "    </tr>\n",
       "    <tr>\n",
       "      <th>Churn</th>\n",
       "      <th></th>\n",
       "    </tr>\n",
       "  </thead>\n",
       "  <tbody>\n",
       "    <tr>\n",
       "      <th>No</th>\n",
       "      <td>45.692584</td>\n",
       "    </tr>\n",
       "    <tr>\n",
       "      <th>Yes</th>\n",
       "      <td>45.870667</td>\n",
       "    </tr>\n",
       "  </tbody>\n",
       "</table>\n",
       "</div>"
      ],
      "text/plain": [
       "             Age\n",
       "Churn           \n",
       "No     45.692584\n",
       "Yes    45.870667"
      ]
     },
     "execution_count": 143,
     "metadata": {},
     "output_type": "execute_result"
    }
   ],
   "source": [
    "# Your code here\n",
    "age = df[['Age', 'Churn']].groupby('Churn').mean()\n",
    "age"
   ]
  },
  {
   "cell_type": "markdown",
   "id": "d9cb4571",
   "metadata": {},
   "source": [
    "c- Show the histograms of Age of different groups (Churn vs non-Churn clients) and compare between them (do you think that Age is an important factor to churn?)"
   ]
  },
  {
   "cell_type": "code",
   "execution_count": 167,
   "id": "a43fcc7e",
   "metadata": {},
   "outputs": [
    {
     "data": {
      "image/png": "[encoded data removed]",
      "text/plain": [
       "<Figure size 640x480 with 1 Axes>"
      ]
     },
     "metadata": {},
     "output_type": "display_data"
    },
    {
     "name": "stdout",
     "output_type": "stream",
     "text": [
      "I do not think age is an important factor to churn, as the distributions seem more or less the same for both the churn and no churn plots.\n"
     ]
    }
   ],
   "source": [
    "# Your code here\n",
    "noChurn = df[df.Churn == 'No'][[\"Age\"]]\n",
    "yesChurn = df[df.Churn == 'Yes'][[\"Age\"]]\n",
    "plt.hist(noChurn, bins=10, label=\"No Churn\")\n",
    "plt.hist(yesChurn, bins=10, label=\"Churn\")\n",
    "plt.legend(loc=\"upper right\")\n",
    "plt.show()\n",
    "print(\"I do not think age is an important factor to churn, as the churn histogram remains relatively the same on the y axis. Between the histograms, the no churn histogram reaches much higher on the y axis than the churn histogram\")"
   ]
  },
  {
   "cell_type": "markdown",
   "id": "6f6f7353",
   "metadata": {},
   "source": [
    "d- For each Internet Service category determine the mean monthly Charges of Churn vs non-Churn clients.<br>\n"
   ]
  },
  {
   "cell_type": "code",
   "execution_count": 138,
   "id": "7533e752",
   "metadata": {},
   "outputs": [
    {
     "data": {
      "text/html": [
       "<div>\n",
       "<style scoped>\n",
       "    .dataframe tbody tr th:only-of-type {\n",
       "        vertical-align: middle;\n",
       "    }\n",
       "\n",
       "    .dataframe tbody tr th {\n",
       "        vertical-align: top;\n",
       "    }\n",
       "\n",
       "    .dataframe thead th {\n",
       "        text-align: right;\n",
       "    }\n",
       "</style>\n",
       "<table border=\"1\" class=\"dataframe\">\n",
       "  <thead>\n",
       "    <tr style=\"text-align: right;\">\n",
       "      <th></th>\n",
       "      <th></th>\n",
       "      <th>MonthlyCharges</th>\n",
       "    </tr>\n",
       "    <tr>\n",
       "      <th>InternetService</th>\n",
       "      <th>Churn</th>\n",
       "      <th></th>\n",
       "    </tr>\n",
       "  </thead>\n",
       "  <tbody>\n",
       "    <tr>\n",
       "      <th rowspan=\"2\" valign=\"top\">DSL</th>\n",
       "      <th>No</th>\n",
       "      <td>77.021264</td>\n",
       "    </tr>\n",
       "    <tr>\n",
       "      <th>Yes</th>\n",
       "      <td>69.581746</td>\n",
       "    </tr>\n",
       "    <tr>\n",
       "      <th rowspan=\"2\" valign=\"top\">Fiber optic</th>\n",
       "      <th>No</th>\n",
       "      <td>101.495767</td>\n",
       "    </tr>\n",
       "    <tr>\n",
       "      <th>Yes</th>\n",
       "      <td>96.454294</td>\n",
       "    </tr>\n",
       "  </tbody>\n",
       "</table>\n",
       "</div>"
      ],
      "text/plain": [
       "                       MonthlyCharges\n",
       "InternetService Churn                \n",
       "DSL             No          77.021264\n",
       "                Yes         69.581746\n",
       "Fiber optic     No         101.495767\n",
       "                Yes         96.454294"
      ]
     },
     "execution_count": 138,
     "metadata": {},
     "output_type": "execute_result"
    }
   ],
   "source": [
    "# Your code here\n",
    "df[['InternetService', 'MonthlyCharges', 'Churn']].groupby(['InternetService', 'Churn']).mean()"
   ]
  },
  {
   "cell_type": "markdown",
   "id": "48e9b6b0",
   "metadata": {
    "scrolled": true
   },
   "source": [
    "e- Show the histograms of MonthlyCharges of Fiber optic users for different groups (Churn vs non-Churn clients) and compare between them (is there a big difference? i.e do you think that MonthlyCharges is an important factor to churn?)"
   ]
  },
  {
   "cell_type": "code",
   "execution_count": 177,
   "id": "26242462",
   "metadata": {},
   "outputs": [
    {
     "data": {
      "image/png": "[encoded data removed]",
      "text/plain": [
       "<Figure size 640x480 with 1 Axes>"
      ]
     },
     "metadata": {},
     "output_type": "display_data"
    },
    {
     "name": "stdout",
     "output_type": "stream",
     "text": [
      "I do think that monthly charges for fiber optic users is an important factor to Churn, as when monthly charges increases, churn also increases. There is a slight difference between both histograms, but they rise and fall on the y axis at similar points on the x axis.\n"
     ]
    }
   ],
   "source": [
    "# Your code here\n",
    "noChurn = df[(df.Churn == 'No') & (df.InternetService == 'Fiber optic')]['MonthlyCharges']\n",
    "yesChurn = df[(df.Churn == 'Yes') & (df.InternetService == 'Fiber optic')]['MonthlyCharges']\n",
    "plt.hist(noChurn, bins=10, label=\"No Churn\")\n",
    "plt.hist(yesChurn, bins=10, label=\"Churn\")\n",
    "plt.legend(loc=\"upper right\")\n",
    "plt.show()\n",
    "print(\"I do think that monthly charges for fiber optic users is an important factor to Churn, as when monthly charges increases, churn also increases. There is a slight difference between both histograms, but they rise and fall on the y axis at similar points on the x axis.\")"
   ]
  },
  {
   "cell_type": "markdown",
   "id": "daff940e",
   "metadata": {},
   "source": [
    "f- Show the histograms of MonthlyCharges of DSL users for different groups (Churn vs non-Churn clients) and compare between them (is there a big difference? i.e do you think that MonthlyCharges is an important factor to churn?)"
   ]
  },
  {
   "cell_type": "code",
   "execution_count": 174,
   "id": "997ed8b7",
   "metadata": {},
   "outputs": [
    {
     "data": {
      "image/png": "[encoded data removed]",
      "text/plain": [
       "<Figure size 640x480 with 1 Axes>"
      ]
     },
     "metadata": {},
     "output_type": "display_data"
    },
    {
     "name": "stdout",
     "output_type": "stream",
     "text": [
      "I do not think that MonthlyCharges of DSL users is an important to factor to churn, as the height of the churn histogram remains relatively the same regardless of monthly charge. Also, there is a big difference between both histograms, as the no churn histogram rises much higher on the y axis.\n"
     ]
    }
   ],
   "source": [
    "# Your code here\n",
    "noChurn = df[(df.Churn == 'No') & (df.InternetService == 'DSL')]['MonthlyCharges']\n",
    "yesChurn = df[(df.Churn == 'Yes') & (df.InternetService == 'DSL')]['MonthlyCharges']\n",
    "plt.hist(noChurn, bins=10, label=\"No Churn\")\n",
    "plt.hist(yesChurn, bins=10, label=\"Churn\")\n",
    "plt.legend(loc=\"upper right\")\n",
    "plt.show()\n",
    "print(\"I do not think that MonthlyCharges of DSL users is an important to factor to churn, as the height of the churn histogram remains relatively the same regardless of monthly charge. Also, there is a big difference between both histograms, as the no churn histogram rises much higher on the y axis.\")"
   ]
  }
 ],
 "metadata": {
  "kernelspec": {
   "display_name": "Python 3 (ipykernel)",
   "language": "python",
   "name": "python3"
  },
  "language_info": {
   "codemirror_mode": {
    "name": "ipython",
    "version": 3
   },
   "file_extension": ".py",
   "mimetype": "text/x-python",
   "name": "python",
   "nbconvert_exporter": "python",
   "pygments_lexer": "ipython3",
   "version": "3.10.5"
  }
 },
 "nbformat": 4,
 "nbformat_minor": 5
}
